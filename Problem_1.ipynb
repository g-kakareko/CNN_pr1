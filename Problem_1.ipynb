{
 "cells": [
  {
   "cell_type": "code",
   "execution_count": 1,
   "metadata": {},
   "outputs": [
    {
     "name": "stderr",
     "output_type": "stream",
     "text": [
      "/home/grzegorz/miniconda3/envs/gk_py/lib/python3.6/site-packages/h5py/__init__.py:36: FutureWarning: Conversion of the second argument of issubdtype from `float` to `np.floating` is deprecated. In future, it will be treated as `np.float64 == np.dtype(float).type`.\n",
      "  from ._conv import register_converters as _register_converters\n",
      "Using TensorFlow backend.\n"
     ]
    }
   ],
   "source": [
    "from __future__ import print_function\n",
    "import numpy as np\n",
    "import matplotlib.pyplot as plt\n",
    "import matplotlib.image as mpimg\n",
    "\n",
    "import keras\n",
    "from keras.models import Sequential\n",
    "from keras.layers import Dense, Dropout, Flatten\n",
    "from keras.layers import Conv2D, MaxPooling2D, LocallyConnected2D\n",
    "from keras import backend as K"
   ]
  },
  {
   "cell_type": "code",
   "execution_count": 13,
   "metadata": {},
   "outputs": [
    {
     "name": "stdout",
     "output_type": "stream",
     "text": [
      "7291\n",
      "256\n",
      "256\n",
      "8.0\n",
      "(7291, 16, 16)\n",
      "x_train shape: (7291, 16, 16, 1)\n",
      "7291 train samples\n",
      "2007 test samples\n"
     ]
    },
    {
     "data": {
      "image/png": "[encoded data removed]",
      "text/plain": [
       "<Figure size 432x288 with 1 Axes>"
      ]
     },
     "metadata": {},
     "output_type": "display_data"
    }
   ],
   "source": [
    "test_txt = 'data/zip_test.txt'\n",
    "train_txt = 'data/zip_train.txt'\n",
    "# train_raw = np.loadtxt(train_txt, delimiter=',', usecols=(0, 2), unpack=True)\n",
    "train_raw = np.loadtxt(train_txt)\n",
    "test_raw = np.loadtxt(test_txt)\n",
    "\n",
    "train_lab = train_raw[:, 0]\n",
    "train_raw = train_raw[:, 1:]\n",
    "\n",
    "test_lab = test_raw[:, 0]\n",
    "test_raw = test_raw[:, 1:]\n",
    "\n",
    "print(train_lab.size)\n",
    "print(train_raw[0].size)\n",
    "print(len(train_raw[4]))\n",
    "\n",
    "# Cleaning the data\n",
    "train_mat = list()\n",
    "for ith in train_raw:\n",
    "    image = np.resize(ith,(16,16))\n",
    "    train_mat.append(image)\n",
    "train_mat = np.array(train_mat)\n",
    "\n",
    "test_mat = list()\n",
    "for ith in test_raw:\n",
    "    image = np.resize(ith,(16,16))\n",
    "    test_mat.append(image)\n",
    "test_mat = np.array(test_mat)\n",
    "\n",
    "idn = 110\n",
    "print(train_lab[idn])\n",
    "mgplot = plt.imshow(train_mat[10])\n",
    "print(train_mat.shape)\n",
    "\n",
    "batch_size = 128\n",
    "num_classes = 10\n",
    "epochs = 6\n",
    "\n",
    "# input image dimensions\n",
    "img_rows, img_cols = 16, 16\n",
    "\n",
    "# the data, split between train and test sets\n",
    "(x_train, y_train), (x_test, y_test) = mnist.load_data()\n",
    "\n",
    "x_train = train_mat.reshape(train_mat.shape[0], img_rows, img_cols, 1)\n",
    "x_test = test_mat.reshape(test_mat.shape[0], img_rows, img_cols, 1)\n",
    "input_shape = (img_rows, img_cols, 1)\n",
    "\n",
    "x_train = x_train.astype('float32')\n",
    "x_test = x_test.astype('float32')\n",
    "\n",
    "print('x_train shape:', x_train.shape)\n",
    "print(x_train.shape[0], 'train samples')\n",
    "print(x_test.shape[0], 'test samples')\n",
    "\n",
    "# convert class vectors to binary class matrices\n",
    "y_train = keras.utils.to_categorical(train_lab.astype('int'), num_classes)\n",
    "y_test = keras.utils.to_categorical(test_lab.astype('int'), num_classes)"
   ]
  },
  {
   "cell_type": "code",
   "execution_count": null,
   "metadata": {},
   "outputs": [
    {
     "name": "stdout",
     "output_type": "stream",
     "text": [
      "Train on 7291 samples, validate on 2007 samples\n",
      "Epoch 1/6\n",
      "5376/7291 [=====================>........] - ETA: 2s - loss: 1.6608 - acc: 0.5995"
     ]
    }
   ],
   "source": [
    "# Task I –Neural Network Design\n",
    "\n",
    "# (1) Fully connected, where each input/neuron is connected to all the ne\n",
    "# urons in the next layer\n",
    "\n",
    "model = Sequential()\n",
    "model.add(Dense(32, \n",
    "                 activation='relu',\n",
    "                 input_shape=input_shape))\n",
    "model.add(Dense(64, activation='relu'))\n",
    "# model.add(MaxPooling2D(pool_size=(2, 2)))\n",
    "# model.add(Dropout(0.25))\n",
    "model.add(Flatten())\n",
    "model.add(Dense(64, activation='sigmoid'))\n",
    "# model.add(Dropout(0.5))\n",
    "model.add(Dense(num_classes, activation='sigmoid'))\n",
    "\n",
    "model.compile(loss=keras.losses.categorical_crossentropy,\n",
    "              optimizer=keras.optimizers.Adadelta(),\n",
    "              metrics=['accuracy'])\n",
    "\n",
    "task_I_1 = model.fit(x_train, y_train, batch_size=batch_size, \n",
    "                      epochs=epochs, verbose=1, validation_data=(x_test, y_test))\n",
    "score = model.evaluate(x_test, y_test, verbose=0)\n",
    "print('Test loss:', score[0])\n",
    "print('Test accuracy:', score[1])\n",
    "\n",
    "# -------- Figures ---------------\n",
    "plt.plot(task_I_1.history['acc'])\n",
    "plt.plot(task_I_1.history['val_acc'])\n",
    "plt.title('model accuracy')\n",
    "plt.ylabel('accuracy')\n",
    "plt.xlabel('epoch')\n",
    "plt.legend(['train', 'test'], loc='upper left')\n",
    "plt.savefig('task_I_1_acc.jpg')\n",
    "plt.show()\n",
    "\n",
    "plt.plot(task_I_1.history['loss'])\n",
    "plt.plot(task_I_1.history['val_loss'])\n",
    "plt.title('model loss')\n",
    "plt.ylabel('loss')\n",
    "plt.xlabel('epoch')\n",
    "plt.legend(['train', 'test'], loc='upper left')\n",
    "plt.savefig('task_I_1_loss.jpg')\n",
    "plt.show()"
   ]
  },
  {
   "cell_type": "code",
   "execution_count": 12,
   "metadata": {},
   "outputs": [
    {
     "name": "stdout",
     "output_type": "stream",
     "text": [
      "Train on 7291 samples, validate on 2007 samples\n",
      "Epoch 1/6\n",
      "7291/7291 [==============================] - 45s 6ms/step - loss: 2.2868 - acc: 0.1557 - val_loss: 2.2469 - val_acc: 0.1789\n",
      "Epoch 2/6\n",
      "7291/7291 [==============================] - 39s 5ms/step - loss: 2.1584 - acc: 0.2284 - val_loss: 1.8560 - val_acc: 0.4340\n",
      "Epoch 3/6\n",
      "7291/7291 [==============================] - 52s 7ms/step - loss: 1.2763 - acc: 0.6828 - val_loss: 0.9169 - val_acc: 0.7678\n",
      "Epoch 4/6\n",
      "7291/7291 [==============================] - 37s 5ms/step - loss: 0.6744 - acc: 0.8388 - val_loss: 0.6703 - val_acc: 0.8022\n",
      "Epoch 5/6\n",
      "7291/7291 [==============================] - 34s 5ms/step - loss: 0.5005 - acc: 0.8678 - val_loss: 0.5720 - val_acc: 0.8261\n",
      "Epoch 6/6\n",
      "7291/7291 [==============================] - 42s 6ms/step - loss: 0.4151 - acc: 0.8834 - val_loss: 0.5103 - val_acc: 0.8426\n",
      "Test loss: 0.5103211684730674\n",
      "Test accuracy: 0.8425510711615277\n"
     ]
    },
    {
     "data": {
      "image/png": "[encoded data removed]",
      "text/plain": [
       "<Figure size 432x288 with 1 Axes>"
      ]
     },
     "metadata": {},
     "output_type": "display_data"
    },
    {
     "data": {
      "image/png": "[encoded data removed]",
      "text/plain": [
       "<Figure size 432x288 with 1 Axes>"
      ]
     },
     "metadata": {},
     "output_type": "display_data"
    }
   ],
   "source": [
    "# (2) Locally connected  with  no  weights shared inthe\n",
    "# first  three  layers,  where  each  input/neuron  is \n",
    "# connected to the neurons in a local neighbor in the next layer\n",
    "\n",
    "model = Sequential()\n",
    "model.add(LocallyConnected2D(32, kernel_size=(3, 3),\n",
    "                 activation='relu',\n",
    "                 input_shape=input_shape))\n",
    "model.add(LocallyConnected2D(64, (3, 3), activation='relu'))\n",
    "model.add(Flatten())\n",
    "model.add(Dense(64, activation='sigmoid'))\n",
    "model.add(Dense(num_classes, activation='sigmoid'))\n",
    "\n",
    "model.compile(loss=keras.losses.categorical_crossentropy,\n",
    "              optimizer=keras.optimizers.Adadelta(),\n",
    "              metrics=['accuracy'])\n",
    "\n",
    "task_I_2 = model.fit(x_train, y_train, batch_size=batch_size, \n",
    "                      epochs=epochs, verbose=1, validation_data=(x_test, y_test))\n",
    "score = model.evaluate(x_test, y_test, verbose=0)\n",
    "print('Test loss:', score[0])\n",
    "print('Test accuracy:', score[1])\n",
    "\n",
    "# -------- Figures ---------------\n",
    "plt.plot(task_I_2.history['acc'])\n",
    "plt.plot(task_I_2.history['val_acc'])\n",
    "plt.title('model accuracy')\n",
    "plt.ylabel('accuracy')\n",
    "plt.xlabel('epoch')\n",
    "plt.legend(['train', 'test'], loc='upper left')\n",
    "plt.savefig('task_I_2_acc.jpg')\n",
    "plt.show()\n",
    "\n",
    "plt.plot(task_I_2.history['loss'])\n",
    "plt.plot(task_I_2.history['val_loss'])\n",
    "plt.title('model loss')\n",
    "plt.ylabel('loss')\n",
    "plt.xlabel('epoch')\n",
    "plt.legend(['train', 'test'], loc='upper left')\n",
    "plt.savefig('task_I_2_loss.jpg')\n",
    "plt.show()"
   ]
  },
  {
   "cell_type": "code",
   "execution_count": 8,
   "metadata": {},
   "outputs": [],
   "source": [
    "# (3) Locally connected with weights shared in the first three layers\n",
    "# (i.e., a convolutional neural network\n",
    "model = Sequential()\n",
    "model.add(Conv2D(32, kernel_size=(3, 3),\n",
    "                 activation='relu',\n",
    "                 input_shape=input_shape))\n",
    "model.add(Conv2D(64, kernel_size=(3, 3), activation='relu'))\n",
    "# model.add(MaxPooling2D(pool_size=(2, 2)))\n",
    "# model.add(Dropout(0.25))\n",
    "model.add(Dense(64, activation='sigmoid'))\n",
    "model.add(Flatten())\n",
    "# model.add(Dense(64, activation='sigmoid'))\n",
    "# model.add(Dropout(0.5))\n",
    "model.add(Dense(num_classes, activation='sigmoid'))\n",
    "\n",
    "model.compile(loss=keras.losses.categorical_crossentropy,\n",
    "              optimizer=keras.optimizers.Adadelta(),\n",
    "              metrics=['accuracy'])\n",
    "\n",
    "task_I_3 = model.fit(x_train, y_train, batch_size=batch_size, \n",
    "                      epochs=epochs, verbose=1, validation_data=(x_test, y_test))\n",
    "score = model.evaluate(x_test, y_test, verbose=0)\n",
    "print('Test loss:', score[0])\n",
    "print('Test accuracy:', score[1])\n",
    "\n",
    "# -------- Figures ---------------\n",
    "plt.plot(task_I_3.history['acc'])\n",
    "plt.plot(task_I_3.history['val_acc'])\n",
    "plt.title('model accuracy')\n",
    "plt.ylabel('accuracy')\n",
    "plt.xlabel('epoch')\n",
    "plt.legend(['train', 'test'], loc='upper left')\n",
    "plt.savefig('task_I_3_acc.jpg')\n",
    "plt.show()\n",
    "\n",
    "plt.plot(task_I_3.history['loss'])\n",
    "plt.plot(task_I_3.history['val_loss'])\n",
    "plt.title('model loss')\n",
    "plt.ylabel('loss')\n",
    "plt.xlabel('epoch')\n",
    "plt.legend(['train', 'test'], loc='upper left')\n",
    "plt.savefig('task_I_3_loss.jpg')\n",
    "plt.show()"
   ]
  },
  {
   "cell_type": "code",
   "execution_count": null,
   "metadata": {},
   "outputs": [],
   "source": []
  }
 ],
 "metadata": {
  "kernelspec": {
   "display_name": "Python 3",
   "language": "python",
   "name": "python3"
  },
  "language_info": {
   "codemirror_mode": {
    "name": "ipython",
    "version": 3
   },
   "file_extension": ".py",
   "mimetype": "text/x-python",
   "name": "python",
   "nbconvert_exporter": "python",
   "pygments_lexer": "ipython3",
   "version": "3.6.5"
  }
 },
 "nbformat": 4,
 "nbformat_minor": 2
}
