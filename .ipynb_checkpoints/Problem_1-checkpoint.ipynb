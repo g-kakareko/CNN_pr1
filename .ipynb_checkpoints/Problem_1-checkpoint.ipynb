{
 "cells": [
  {
   "cell_type": "code",
   "execution_count": 47,
   "metadata": {},
   "outputs": [],
   "source": [
    "import numpy as np\n",
    "import matplotlib.pyplot as plt\n",
    "import matplotlib.image as mpimg"
   ]
  },
  {
   "cell_type": "code",
   "execution_count": 44,
   "metadata": {},
   "outputs": [],
   "source": [
    "test_txt = 'data/zip_test.txt'\n",
    "train_txt = 'data/zip_train.txt'\n",
    "# train_raw = np.loadtxt(train_txt, delimiter=',', usecols=(0, 2), unpack=True)\n",
    "train_raw = np.loadtxt(train_txt)\n",
    "test_raw = np.loadtxt(test_txt)"
   ]
  },
  {
   "cell_type": "code",
   "execution_count": 45,
   "metadata": {},
   "outputs": [
    {
     "name": "stdout",
     "output_type": "stream",
     "text": [
      "257\n",
      "257\n",
      "7290\n"
     ]
    }
   ],
   "source": [
    "train_lab = train_raw[:][0]\n",
    "train_raw = train_raw[:][1::]\n",
    "\n",
    "test_lab = test_raw[:][0]\n",
    "test_raw = test_raw[:][1::]\n",
    "\n",
    "print(train_lab.size)\n",
    "print(train_raw[0].size)\n",
    "print(len(train_raw))"
   ]
  },
  {
   "cell_type": "code",
   "execution_count": 46,
   "metadata": {},
   "outputs": [
    {
     "data": {
      "text/plain": [
       "array([[ 7.   , -1.   , -1.   , -1.   , -1.   , -1.   , -0.273,  0.684,\n",
       "         0.96 ,  0.45 , -0.067, -0.679, -1.   , -1.   , -1.   , -1.   ],\n",
       "       [-1.   , -1.   , -1.   , -1.   , -1.   , -0.114,  0.974,  0.917,\n",
       "         0.734,  0.994,  1.   ,  0.973,  0.391, -0.421, -0.976, -1.   ],\n",
       "       [-1.   , -1.   , -1.   , -1.   , -0.323,  0.991,  0.622, -0.738,\n",
       "        -1.   , -0.639,  0.023,  0.871,  1.   ,  1.   , -0.432, -1.   ],\n",
       "       [-1.   , -1.   , -1.   , -1.   ,  0.409,  1.   , -0.   , -1.   ,\n",
       "        -1.   , -1.   , -1.   , -0.842,  0.714,  1.   , -0.534, -1.   ],\n",
       "       [-1.   , -1.   , -1.   , -0.879,  0.965,  1.   , -0.713, -1.   ,\n",
       "        -1.   , -1.   , -1.   , -0.606,  0.977,  0.695, -0.906, -1.   ],\n",
       "       [-1.   , -1.   , -1.   , -0.528,  1.   ,  0.931, -0.888, -1.   ,\n",
       "        -1.   , -1.   , -0.949,  0.559,  0.984, -0.363, -1.   , -1.   ],\n",
       "       [-1.   , -1.   , -1.   , -0.97 , -0.266, -0.555, -1.   , -1.   ,\n",
       "        -1.   , -1.   , -0.186,  1.   ,  0.488, -1.   , -1.   , -1.   ],\n",
       "       [-1.   , -1.   , -1.   , -1.   , -1.   , -1.   , -1.   , -1.   ,\n",
       "        -1.   , -1.   ,  0.697,  0.992, -0.458, -1.   , -1.   , -1.   ],\n",
       "       [-1.   , -1.   , -1.   , -1.   , -1.   , -1.   , -1.   , -1.   ,\n",
       "        -1.   , -0.341,  1.   ,  0.608, -1.   , -1.   , -1.   , -1.   ],\n",
       "       [-1.   , -1.   , -1.   , -1.   , -1.   , -1.   , -1.   , -1.   ,\n",
       "        -1.   ,  0.471,  0.998, -0.416, -1.   , -1.   , -1.   , -1.   ],\n",
       "       [-1.   , -1.   , -1.   , -1.   , -1.   , -1.   , -1.   , -1.   ,\n",
       "        -0.644,  0.963,  0.59 , -0.999, -1.   , -1.   , -1.   , -1.   ],\n",
       "       [-1.   , -1.   , -1.   , -1.   , -1.   , -1.   , -1.   , -1.   ,\n",
       "         0.061,  1.   , -0.079, -1.   , -1.   , -1.   , -1.   , -1.   ],\n",
       "       [-1.   , -1.   , -1.   , -1.   , -1.   , -1.   , -1.   , -1.   ,\n",
       "         0.773,  0.958, -0.714, -1.   , -1.   , -1.   , -1.   , -1.   ],\n",
       "       [-1.   , -1.   , -1.   , -1.   , -1.   , -1.   , -1.   , -0.545,\n",
       "         0.989,  0.432, -1.   , -1.   , -1.   , -1.   , -1.   , -1.   ],\n",
       "       [-1.   , -1.   , -1.   , -1.   , -1.   , -1.   , -1.   , -0.348,\n",
       "         1.   ,  0.798, -0.935, -1.   , -1.   , -1.   , -1.   , -1.   ],\n",
       "       [-1.   , -1.   , -1.   , -1.   , -1.   , -1.   , -1.   , -0.318,\n",
       "         1.   ,  0.536, -0.987, -1.   , -1.   , -1.   , -1.   , -1.   ]])"
      ]
     },
     "execution_count": 46,
     "metadata": {},
     "output_type": "execute_result"
    }
   ],
   "source": [
    "example = np.resize(train_raw[2][:],(16,16))"
   ]
  },
  {
   "cell_type": "code",
   "execution_count": 43,
   "metadata": {},
   "outputs": [
    {
     "data": {
      "text/plain": [
       "array([-1.   , -0.813, -0.671, -0.809, -0.887, -0.671, -0.853, -1.   ,\n",
       "       -1.   , -0.774, -0.18 ,  0.052, -0.241, -1.   , -1.   , -1.   ,\n",
       "       -1.   ,  0.392,  1.   ,  0.857,  0.727,  1.   ,  0.805,  0.613,\n",
       "        0.613,  0.86 ,  1.   ,  1.   ,  0.396, -1.   , -1.   , -1.   ,\n",
       "       -1.   , -0.548,  1.   ,  1.   ,  1.   ,  1.   ,  1.   ,  1.   ,\n",
       "        1.   ,  1.   ,  1.   ,  1.   ,  0.875, -0.957, -1.   , -1.   ,\n",
       "       -1.   , -0.786,  0.961,  1.   ,  1.   ,  1.   ,  0.727,  0.403,\n",
       "        0.403,  0.171, -0.314, -0.314, -0.94 , -1.   , -1.   , -1.   ,\n",
       "       -1.   , -0.298,  1.   ,  1.   ,  1.   ,  0.44 ,  0.056, -0.755,\n",
       "       -1.   , -1.   , -1.   , -1.   , -1.   , -1.   , -1.   , -1.   ,\n",
       "       -1.   ,  0.366,  1.   ,  1.   ,  1.   ,  1.   ,  1.   ,  0.889,\n",
       "       -0.081, -0.92 , -1.   , -1.   , -1.   , -1.   , -1.   , -1.   ,\n",
       "       -1.   , -0.396,  0.886,  0.974,  0.851,  0.851,  0.95 ,  1.   ,\n",
       "        1.   ,  0.539, -0.754, -1.   , -1.   , -1.   , -1.   , -1.   ,\n",
       "       -1.   , -1.   , -0.886, -0.505, -1.   , -1.   , -0.649,  0.405,\n",
       "        1.   ,  1.   ,  0.653, -0.838, -1.   , -1.   , -1.   , -1.   ,\n",
       "       -1.   , -1.   , -1.   , -1.   , -1.   , -1.   , -1.   , -1.   ,\n",
       "       -0.55 ,  0.993,  1.   ,  0.618, -0.869, -1.   , -0.96 , -0.512,\n",
       "        0.134, -0.343, -0.796, -1.   , -1.   , -1.   , -1.   , -1.   ,\n",
       "       -1.   , -0.432,  0.994,  1.   ,  0.223, -1.   ,  0.426,  1.   ,\n",
       "        1.   ,  1.   ,  0.214, -1.   , -1.   , -1.   , -1.   , -1.   ,\n",
       "       -1.   , -1.   ,  0.292,  1.   ,  0.967, -0.88 ,  0.449,  1.   ,\n",
       "        0.896, -0.094, -0.75 , -1.   , -1.   , -1.   , -1.   , -1.   ,\n",
       "       -1.   , -1.   , -0.627,  1.   ,  1.   ,  0.198, -0.105,  1.   ,\n",
       "        1.   ,  1.   ,  0.639, -0.168, -0.314, -0.446, -1.   , -1.   ,\n",
       "       -0.999, -0.337,  0.147,  0.996,  1.   ,  0.667, -0.808,  0.065,\n",
       "        0.993,  1.   ,  1.   ,  1.   ,  1.   ,  0.996,  0.97 ,  0.97 ,\n",
       "        0.97 ,  0.998,  1.   ,  1.   ,  1.   ,  0.109, -1.   , -1.   ,\n",
       "       -0.83 , -0.242,  0.35 ,  0.8  ,  1.   ,  1.   ,  1.   ,  1.   ,\n",
       "        1.   ,  1.   ,  1.   ,  1.   ,  0.616, -0.93 , -1.   , -1.   ,\n",
       "       -1.   , -1.   , -1.   , -0.858, -0.671, -0.671, -0.033,  0.761,\n",
       "        0.762,  0.126, -0.095, -0.671, -0.828, -1.   ])"
      ]
     },
     "execution_count": 43,
     "metadata": {},
     "output_type": "execute_result"
    }
   ],
   "source": [
    "train_raw"
   ]
  },
  {
   "cell_type": "code",
   "execution_count": null,
   "metadata": {},
   "outputs": [],
   "source": [
    "# Task I –Neural Network Design\n",
    "\n",
    "# (1) Fully connected, where each input/neuron is connected to all the ne\n",
    "# urons in the next layer"
   ]
  },
  {
   "cell_type": "code",
   "execution_count": null,
   "metadata": {},
   "outputs": [],
   "source": [
    "# (2) Locally connected  with  no  weights shared inthe\n",
    "# first  three  layers,  where  each  input/neuron  is \n",
    "# connected to the neurons in a local neighbor in the next layer"
   ]
  },
  {
   "cell_type": "code",
   "execution_count": null,
   "metadata": {},
   "outputs": [],
   "source": [
    "# (3) Locally connected with weights shared in the first three layers\n",
    "# (i.e., a convolutional neural network"
   ]
  }
 ],
 "metadata": {
  "kernelspec": {
   "display_name": "Python 3",
   "language": "python",
   "name": "python3"
  },
  "language_info": {
   "codemirror_mode": {
    "name": "ipython",
    "version": 3
   },
   "file_extension": ".py",
   "mimetype": "text/x-python",
   "name": "python",
   "nbconvert_exporter": "python",
   "pygments_lexer": "ipython3",
   "version": "3.6.5"
  }
 },
 "nbformat": 4,
 "nbformat_minor": 2
}
