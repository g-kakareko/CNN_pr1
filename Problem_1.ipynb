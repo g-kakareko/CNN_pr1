{
 "cells": [
  {
   "cell_type": "code",
   "execution_count": 1,
   "metadata": {},
   "outputs": [
    {
     "name": "stderr",
     "output_type": "stream",
     "text": [
      "/home/grzegorz/miniconda3/envs/gk_py/lib/python3.6/site-packages/h5py/__init__.py:36: FutureWarning: Conversion of the second argument of issubdtype from `float` to `np.floating` is deprecated. In future, it will be treated as `np.float64 == np.dtype(float).type`.\n",
      "  from ._conv import register_converters as _register_converters\n",
      "Using TensorFlow backend.\n"
     ]
    }
   ],
   "source": [
    "from __future__ import print_function\n",
    "import numpy as np\n",
    "import matplotlib.pyplot as plt\n",
    "import matplotlib.image as mpimg\n",
    "\n",
    "import keras\n",
    "from keras.datasets import mnist\n",
    "from keras.models import Sequential\n",
    "from keras.layers import Dense, Dropout, Flatten\n",
    "from keras.layers import Conv2D, MaxPooling2D\n",
    "from keras import backend as K"
   ]
  },
  {
   "cell_type": "code",
   "execution_count": 2,
   "metadata": {},
   "outputs": [],
   "source": [
    "test_txt = 'data/zip_test.txt'\n",
    "train_txt = 'data/zip_train.txt'\n",
    "# train_raw = np.loadtxt(train_txt, delimiter=',', usecols=(0, 2), unpack=True)\n",
    "train_raw = np.loadtxt(train_txt)\n",
    "test_raw = np.loadtxt(test_txt)"
   ]
  },
  {
   "cell_type": "code",
   "execution_count": 3,
   "metadata": {},
   "outputs": [
    {
     "name": "stdout",
     "output_type": "stream",
     "text": [
      "7291\n",
      "256\n",
      "256\n"
     ]
    }
   ],
   "source": [
    "train_lab = train_raw[:, 0]\n",
    "train_raw = train_raw[:, 1:]\n",
    "\n",
    "test_lab = test_raw[:, 0]\n",
    "test_raw = test_raw[:, 1:]\n",
    "\n",
    "print(train_lab.size)\n",
    "print(train_raw[0].size)\n",
    "print(len(train_raw[4]))"
   ]
  },
  {
   "cell_type": "code",
   "execution_count": 4,
   "metadata": {},
   "outputs": [],
   "source": [
    "# Cleaning the data\n",
    "train_mat = list()\n",
    "for ith in train_raw:\n",
    "    image = np.resize(ith,(16,16))\n",
    "    train_mat.append(image)\n",
    "train_mat = np.array(train_mat)\n",
    "\n",
    "test_mat = list()\n",
    "for ith in test_raw:\n",
    "    image = np.resize(ith,(16,16))\n",
    "    test_mat.append(image)\n",
    "test_mat = np.array(test_mat)"
   ]
  },
  {
   "cell_type": "code",
   "execution_count": 23,
   "metadata": {},
   "outputs": [
    {
     "name": "stdout",
     "output_type": "stream",
     "text": [
      "8.0\n",
      "(7291, 16, 16)\n"
     ]
    },
    {
     "data": {
      "image/png": "[encoded data removed]",
      "text/plain": [
       "<Figure size 432x288 with 1 Axes>"
      ]
     },
     "metadata": {},
     "output_type": "display_data"
    }
   ],
   "source": [
    "idn = 110\n",
    "print(train_lab[idn])\n",
    "mgplot = plt.imshow(train_mat[10])\n",
    "print(train_mat.shape)"
   ]
  },
  {
   "cell_type": "code",
   "execution_count": 6,
   "metadata": {},
   "outputs": [],
   "source": [
    "# train_lab\n",
    "batch_size = 128\n",
    "num_classes = 10\n",
    "epochs = 12\n",
    "\n",
    "img_rows, img_cols = 16, 16"
   ]
  },
  {
   "cell_type": "code",
   "execution_count": 28,
   "metadata": {},
   "outputs": [],
   "source": [
    "# len(train_raw[2][1:])\n",
    "\n",
    "batch_size = 128\n",
    "num_classes = 10\n",
    "epochs = 12\n",
    "\n",
    "# input image dimensions\n",
    "img_rows, img_cols = 16, 16\n",
    "\n",
    "# the data, split between train and test sets\n",
    "(x_train, y_train), (x_test, y_test) = mnist.load_data()\n",
    "\n",
    "x_train = train_mat.reshape(train_mat.shape[0], img_rows, img_cols, 1)\n",
    "x_test = test_mat.reshape(test_mat.shape[0], img_rows, img_cols, 1)\n",
    "input_shape = (img_rows, img_cols, 1)"
   ]
  },
  {
   "cell_type": "code",
   "execution_count": 33,
   "metadata": {},
   "outputs": [],
   "source": [
    "x_train = x_train.astype('float32')\n",
    "x_test = x_test.astype('float32')\n",
    "\n",
    "print('x_train shape:', x_train.shape)\n",
    "print(x_train.shape[0], 'train samples')\n",
    "print(x_test.shape[0], 'test samples')\n",
    "\n",
    "# convert class vectors to binary class matrices\n",
    "y_train = keras.utils.to_categorical(train_lab.astype('int'), num_classes)\n",
    "y_test = keras.utils.to_categorical(test_lab.astype('int'), num_classes)"
   ]
  },
  {
   "cell_type": "code",
   "execution_count": 38,
   "metadata": {},
   "outputs": [
    {
     "name": "stdout",
     "output_type": "stream",
     "text": [
      "Train on 7291 samples, validate on 2007 samples\n",
      "Epoch 1/12\n",
      "7291/7291 [==============================] - 9s 1ms/step - loss: 0.7838 - acc: 0.7482 - val_loss: 0.3030 - val_acc: 0.9093\n",
      "Epoch 2/12\n",
      "7291/7291 [==============================] - 10s 1ms/step - loss: 0.2356 - acc: 0.9302 - val_loss: 0.2210 - val_acc: 0.9317\n",
      "Epoch 3/12\n",
      "7291/7291 [==============================] - 7s 943us/step - loss: 0.1429 - acc: 0.9561 - val_loss: 0.1961 - val_acc: 0.9412\n",
      "Epoch 4/12\n",
      "7291/7291 [==============================] - 7s 916us/step - loss: 0.1186 - acc: 0.9649 - val_loss: 0.1891 - val_acc: 0.9477\n",
      "Epoch 5/12\n",
      "7291/7291 [==============================] - 7s 937us/step - loss: 0.0911 - acc: 0.9738 - val_loss: 0.1729 - val_acc: 0.9517\n",
      "Epoch 6/12\n",
      "7291/7291 [==============================] - 7s 926us/step - loss: 0.0753 - acc: 0.9782 - val_loss: 0.1755 - val_acc: 0.9557\n",
      "Epoch 7/12\n",
      "7291/7291 [==============================] - 7s 973us/step - loss: 0.0646 - acc: 0.9793 - val_loss: 0.1638 - val_acc: 0.9532\n",
      "Epoch 8/12\n",
      "7291/7291 [==============================] - 9s 1ms/step - loss: 0.0557 - acc: 0.9827 - val_loss: 0.1630 - val_acc: 0.9571\n",
      "Epoch 9/12\n",
      "7291/7291 [==============================] - 9s 1ms/step - loss: 0.0522 - acc: 0.9835 - val_loss: 0.1594 - val_acc: 0.9581\n",
      "Epoch 10/12\n",
      "7291/7291 [==============================] - 9s 1ms/step - loss: 0.0400 - acc: 0.9886 - val_loss: 0.1668 - val_acc: 0.9591\n",
      "Epoch 11/12\n",
      "7291/7291 [==============================] - 10s 1ms/step - loss: 0.0362 - acc: 0.9881 - val_loss: 0.1649 - val_acc: 0.9616\n",
      "Epoch 12/12\n",
      "7291/7291 [==============================] - 10s 1ms/step - loss: 0.0410 - acc: 0.9867 - val_loss: 0.1574 - val_acc: 0.9611\n",
      "Test loss: 0.15738041021020766\n",
      "Test accuracy: 0.9611360240350865\n"
     ]
    }
   ],
   "source": [
    "# Task I –Neural Network Design\n",
    "\n",
    "# (1) Fully connected, where each input/neuron is connected to all the ne\n",
    "# urons in the next layer\n",
    "\n",
    "model = Sequential()\n",
    "model.add(Conv2D(32, kernel_size=(3, 3),\n",
    "                 activation='relu',\n",
    "                 input_shape=input_shape))\n",
    "model.add(Conv2D(64, (3, 3), activation='relu'))\n",
    "model.add(MaxPooling2D(pool_size=(2, 2)))\n",
    "model.add(Dropout(0.25))\n",
    "model.add(Flatten())\n",
    "model.add(Dense(128, activation='relu'))\n",
    "model.add(Dropout(0.5))\n",
    "model.add(Dense(num_classes, activation='softmax'))\n",
    "\n",
    "model.compile(loss=keras.losses.categorical_crossentropy,\n",
    "              optimizer=keras.optimizers.Adadelta(),\n",
    "              metrics=['accuracy'])\n",
    "\n",
    "task_I_1 = model.fit(x_train, y_train, batch_size=batch_size, \n",
    "                      epochs=epochs, verbose=1, validation_data=(x_test, y_test))\n",
    "score = model.evaluate(x_test, y_test, verbose=0)\n",
    "print('Test loss:', score[0])\n",
    "print('Test accuracy:', score[1])\n",
    "\n",
    "# -------- Figures ---------------\n",
    "plt.plot(task_I_1.history['acc'])\n",
    "plt.plot(task_I_1.history['val_acc'])\n",
    "plt.title('model accuracy')\n",
    "plt.ylabel('accuracy')\n",
    "plt.xlabel('epoch')\n",
    "plt.legend(['train', 'test'], loc='upper left')\n",
    "plt.savefig('task_I_1_acc.jpg')\n",
    "plt.show()\n",
    "\n",
    "plt.plot(task_I_1.history['loss'])\n",
    "plt.plot(task_I_1.history['val_loss'])\n",
    "plt.title('model loss')\n",
    "plt.ylabel('loss')\n",
    "plt.xlabel('epoch')\n",
    "plt.legend(['train', 'test'], loc='upper left')\n",
    "plt.savefig('task_I_1_loss.jpg')\n",
    "plt.show()"
   ]
  },
  {
   "cell_type": "code",
   "execution_count": null,
   "metadata": {},
   "outputs": [],
   "source": [
    "# Task I –Neural Network Design\n",
    "\n",
    "# (1) Fully connected, where each input/neuron is connected to all the ne\n",
    "# urons in the next layer"
   ]
  },
  {
   "cell_type": "code",
   "execution_count": null,
   "metadata": {},
   "outputs": [],
   "source": [
    "# (2) Locally connected  with  no  weights shared inthe\n",
    "# first  three  layers,  where  each  input/neuron  is \n",
    "# connected to the neurons in a local neighbor in the next layer"
   ]
  },
  {
   "cell_type": "code",
   "execution_count": null,
   "metadata": {},
   "outputs": [],
   "source": [
    "# (3) Locally connected with weights shared in the first three layers\n",
    "# (i.e., a convolutional neural network"
   ]
  }
 ],
 "metadata": {
  "kernelspec": {
   "display_name": "Python 3",
   "language": "python",
   "name": "python3"
  },
  "language_info": {
   "codemirror_mode": {
    "name": "ipython",
    "version": 3
   },
   "file_extension": ".py",
   "mimetype": "text/x-python",
   "name": "python",
   "nbconvert_exporter": "python",
   "pygments_lexer": "ipython3",
   "version": "3.6.5"
  }
 },
 "nbformat": 4,
 "nbformat_minor": 2
}
